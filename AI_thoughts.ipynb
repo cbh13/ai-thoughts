{
  "nbformat": 4,
  "nbformat_minor": 0,
  "metadata": {
    "colab": {
      "provenance": [],
      "authorship_tag": "ABX9TyMLF6zL3r6hw3fB1ppfLkdR",
      "include_colab_link": true
    },
    "kernelspec": {
      "name": "python3",
      "display_name": "Python 3"
    },
    "language_info": {
      "name": "python"
    }
  },
  "cells": [
    {
      "cell_type": "markdown",
      "metadata": {
        "id": "view-in-github",
        "colab_type": "text"
      },
      "source": [
        "<a href=\"https://colab.research.google.com/github/cbh13/ai-thoughts/blob/main/AI_thoughts.ipynb\" target=\"_parent\"><img src=\"https://colab.research.google.com/assets/colab-badge.svg\" alt=\"Open In Colab\"/></a>"
      ]
    },
    {
      "cell_type": "code",
      "execution_count": null,
      "metadata": {
        "id": "GSTYOS8NQ2YC"
      },
      "outputs": [],
      "source": [
        "# My thoughts on AI\n",
        "\n",
        "## Things I want to learn\n",
        "\n",
        "* How to make pizza\n",
        "* How to make cookies\n",
        "* PUSH my change?"
      ]
    },
    {
      "cell_type": "markdown",
      "source": [],
      "metadata": {
        "id": "d26w8C1GQ6Ci"
      }
    }
  ]
}